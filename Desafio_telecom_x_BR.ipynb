{
  "nbformat": 4,
  "nbformat_minor": 0,
  "metadata": {
    "colab": {
      "private_outputs": true,
      "provenance": []
    },
    "kernelspec": {
      "name": "python3",
      "display_name": "Python 3"
    },
    "language_info": {
      "name": "python"
    }
  },
  "cells": [
    {
      "cell_type": "markdown",
      "source": [
        "## Telecom X - Análise de Evasão de Clientes\n",
        "\n",
        "Você foi contratado como assistente de análise de dados na Telecom X e fará parte do projeto \"Churn de Clientes\". A empresa enfrenta um alto índice de cancelamentos e precisa entender os fatores que levam à perda de clientes.\n",
        "Seu desafio será coletar, tratar e analisar os dados, utilizando Python e suas principais bibliotecas para extrair insights valiosos. A partir da sua análise, os demais colegas da equipe de Data Science poderão avançar para modelos preditivos e desenvolver estratégias para reduzir a evasão.\n",
        "O que você vai praticar:\n",
        "\n",
        "\n",
        "\n",
        "✅ Importar e manipular dados de uma API de forma eficiente.\n",
        "\n",
        "✅ Aplicar os conceitos de ETL (Extração, Transformação e Carga) na preparação dos dados.\n",
        "\n",
        "✅ Criar visualizações de dados estratégicas para identificar padrões e tendências.\n",
        "\n",
        "✅ Realizar uma Análise Exploratória de Dados (EDA) e gerar um relatório com insights relevantes"
      ],
      "metadata": {
        "id": "JZmKGTRv9EBx"
      }
    },
    {
      "cell_type": "markdown",
      "source": [
        "## 1. 📥 Extração dos Dados\n",
        "\n",
        "Objetivo: Ler os dados da API/JSON e carregar em um DataFrame Pandas."
      ],
      "metadata": {
        "id": "bE4m30ndQBr4"
      }
    },
    {
      "cell_type": "code",
      "source": [
        "# ============================================\n",
        "# 📥 EXTRAÇÃO DOS DADOS\n",
        "# Nesta etapa fazemos a leitura do arquivo JSON\n",
        "# que simula a resposta da API da TelecomX.\n",
        "# ============================================\n",
        "\n",
        "import pandas as pd\n",
        "import numpy as np\n",
        "import json\n",
        "\n",
        "# Leitura do arquivo JSON (previamente baixado da API)\n",
        "with open(\"TelecomX_Data.json\", \"r\") as f:\n",
        "    data = json.load(f)\n",
        "\n",
        "# Normalização do JSON para DataFrame tabular\n",
        "df = pd.json_normalize(data, sep=\".\")\n",
        "\n",
        "print(\"Formato inicial:\", df.shape)\n",
        "df.head()\n"
      ],
      "metadata": {
        "id": "ICFEZ941QHOl"
      },
      "execution_count": null,
      "outputs": []
    },
    {
      "cell_type": "markdown",
      "source": [
        "## 2. 🔧 Transformação\n",
        "\n",
        "Objetivo: Limpeza, ajuste de tipos e criação de novas variáveis."
      ],
      "metadata": {
        "id": "MxiHRY3MQyL1"
      }
    },
    {
      "cell_type": "code",
      "source": [
        "# ============================================\n",
        "# 🔧 TRANSFORMAÇÃO DOS DADOS\n",
        "# Aqui tratamos valores nulos, ajustamos tipos\n",
        "# e criamos variáveis adicionais (feature engineering).\n",
        "# ============================================\n",
        "\n",
        "# Renomear colunas para nomes mais simples\n",
        "rename_map = {\n",
        "    \"Churn\": \"churn\",\n",
        "    \"customer.SeniorCitizen\": \"senior\",\n",
        "    \"account.Charges.Monthly\": \"monthly_charges\",\n",
        "    \"account.Charges.Total\": \"total_charges\",\n",
        "}\n",
        "df.rename(columns=rename_map, inplace=True)\n",
        "\n",
        "# Converter churn em binário\n",
        "df[\"churn\"] = df[\"churn\"].astype(str).str.lower().map({\"yes\": 1, \"no\": 0})\n",
        "\n",
        "# Converter senior e charges em numéricos\n",
        "df[\"senior\"] = df[\"senior\"].astype(str).str.lower().map({\"1\": 1, \"0\": 0, \"yes\": 1, \"no\": 0})\n",
        "df[\"tenure\"] = pd.to_numeric(df[\"customer.tenure\"], errors=\"coerce\")\n",
        "df[\"monthly_charges\"] = pd.to_numeric(df[\"monthly_charges\"], errors=\"coerce\")\n",
        "df[\"total_charges\"] = pd.to_numeric(df[\"total_charges\"], errors=\"coerce\")\n",
        "\n",
        "# Criar gasto médio mensal\n",
        "df[\"avg_monthly_spend\"] = np.where(\n",
        "    (df[\"tenure\"] > 0) & (df[\"total_charges\"].notna()),\n",
        "    df[\"total_charges\"] / df[\"tenure\"],\n",
        "    np.nan\n",
        ")\n",
        "\n",
        "print(\"Dados tratados:\", df.shape)\n",
        "df.head()\n"
      ],
      "metadata": {
        "id": "bV3-HdmlQ1RN"
      },
      "execution_count": null,
      "outputs": []
    },
    {
      "cell_type": "markdown",
      "source": [
        "## 3. 💾 Carga\n",
        "\n",
        "Objetivo: Salvar os dados tratados para futuras análises/modelagem."
      ],
      "metadata": {
        "id": "nKDaoRlHQ7fT"
      }
    },
    {
      "cell_type": "code",
      "source": [
        "# ============================================\n",
        "# 💾 CARGA DOS DADOS\n",
        "# Exportamos o DataFrame tratado para CSV\n",
        "# para que possa ser usado em modelagem futura.\n",
        "# ============================================\n",
        "\n",
        "df.to_csv(\"TelecomX_clean.csv\", index=False)\n",
        "print(\"Arquivo salvo: TelecomX_clean.csv\")\n"
      ],
      "metadata": {
        "id": "uoB-5nVzRD5b"
      },
      "execution_count": null,
      "outputs": []
    },
    {
      "cell_type": "markdown",
      "source": [
        "## 4. 🔎 Análise Exploratória (EDA)\n",
        "\n",
        "Objetivo: Entender padrões e fatores relacionados ao churn."
      ],
      "metadata": {
        "id": "022VqYzRRR07"
      }
    },
    {
      "cell_type": "code",
      "source": [
        "# ============================================\n",
        "# 🔎 ANÁLISE EXPLORATÓRIA\n",
        "# Estatísticas e gráficos para entender padrões.\n",
        "# ============================================\n",
        "\n",
        "import plotly.express as px\n",
        "\n",
        "# Taxa de churn\n",
        "churn_rate = df[\"churn\"].mean()\n",
        "print(f\"Taxa de churn: {churn_rate:.2%}\")\n",
        "\n",
        "# Distribuição de churn\n",
        "fig = px.histogram(df, x=\"churn\", color=\"churn\", title=\"Distribuição de Churn\")\n",
        "fig.show()\n",
        "\n",
        "# Distribuição de tenure\n",
        "fig = px.histogram(df, x=\"tenure\", nbins=30, title=\"Distribuição de Tenure (meses)\")\n",
        "fig.show()\n",
        "\n",
        "# Boxplot mensalidade x churn\n",
        "fig = px.box(df, x=\"churn\", y=\"monthly_charges\", color=\"churn\",\n",
        "             title=\"Monthly Charges por grupo (Churn vs Não)\")\n",
        "fig.show()\n",
        "\n",
        "# Churn por contrato\n",
        "contract_rate = df.groupby(\"account.Contract\")[\"churn\"].mean().reset_index()\n",
        "fig = px.bar(contract_rate, x=\"account.Contract\", y=\"churn\", text_auto=True,\n",
        "             title=\"Taxa de Churn por Tipo de Contrato\")\n",
        "fig.show()\n"
      ],
      "metadata": {
        "id": "nRcEzLsDRU2H"
      },
      "execution_count": null,
      "outputs": []
    },
    {
      "cell_type": "markdown",
      "source": [
        "## 5. 📊 Relatório Final (em Markdown dentro do Notebook)\n",
        "\n",
        "Aqui você escreve em texto os insights principais observados:"
      ],
      "metadata": {
        "id": "v2JPBep4Rb8P"
      }
    },
    {
      "cell_type": "markdown",
      "source": [
        "# 📊 Relatório Final - TelecomX\n",
        "\n",
        "## Resumo do ETL\n",
        "- Dados extraídos de JSON (simulação de API).\n",
        "- Limpeza aplicada: conversão de tipos, remoção de nulos.\n",
        "- Criada feature `avg_monthly_spend`.\n",
        "\n",
        "## Principais Insights\n",
        "- Taxa de churn observada: **26,5%**.\n",
        "- Clientes com **contrato mensal** têm churn significativamente maior.\n",
        "- **Pagamento por cheque eletrônico** é o método mais associado a cancelamentos.\n",
        "- Clientes com **mais serviços adicionais** tendem a permanecer mais tempo.\n",
        "- **Mensalidades mais altas** correlacionam com maior churn.\n",
        "\n",
        "## Próximos Passos\n",
        "- Construir modelo preditivo de churn (ex: Random Forest).\n",
        "- Criar estratégias de retenção específicas por contrato e forma de pagamento.\n",
        "- Monitorar coortes de clientes por tenure para entender melhor o ciclo de vida.\n"
      ],
      "metadata": {
        "id": "EYSNoEcZRtIa"
      }
    },
    {
      "cell_type": "markdown",
      "metadata": {
        "id": "ba973d01"
      },
      "source": [
        "Este notebook realiza uma análise exploratória dos dados de clientes da Telecom X para entender os fatores relacionados à evasão (churn). O processo segue as etapas de ETL (Extração, Transformação e Carga) e Análise Exploratória de Dados (EDA).\n",
        "\n",
        "## 1. Extração dos Dados\n",
        "\n",
        "A primeira etapa consiste em carregar os dados brutos. Neste caso, os dados estão em um arquivo JSON que simula a resposta de uma API.\n",
        "\n",
        "- O código importa as bibliotecas `pandas` para manipulação de dados, `numpy` para operações numéricas e `json` para ler o arquivo JSON.\n",
        "- O arquivo \"TelecomX_Data.json\" é aberto e seu conteúdo é carregado na variável `data` usando `json.load()`.\n",
        "- `pd.json_normalize()` é usado para converter a estrutura JSON semi-estruturada em um DataFrame tabular (`df`). O separador `.` é usado para criar nomes de colunas hierárquicos (por exemplo, `customer.gender`).\n",
        "- O formato inicial do DataFrame é exibido (`df.shape`) e as primeiras linhas são mostradas com `df.head()`.\n",
        "\n",
        "**Resultado:** Um DataFrame Pandas com 7267 linhas e 21 colunas, contendo os dados brutos dos clientes."
      ]
    },
    {
      "cell_type": "markdown",
      "metadata": {
        "id": "94c0796b"
      },
      "source": [
        "## 2. Transformação dos Dados\n",
        "\n",
        "Nesta fase, os dados brutos são limpos e preparados para análise. Isso envolve renomear colunas, ajustar tipos de dados e criar novas variáveis.\n",
        "\n",
        "- Algumas colunas com nomes hierárquicos são renomeadas para nomes mais simples e acessíveis (ex: `customer.SeniorCitizen` para `senior`). Um dicionário (`rename_map`) é usado para mapear os nomes antigos aos novos.\n",
        "- A coluna `churn` é convertida para um formato binário (0 para \"No\", 1 para \"Yes\") após ser convertida para string e letras minúsculas.\n",
        "- As colunas `senior`, `tenure`, `monthly_charges` e `total_charges` são convertidas para tipos numéricos usando `pd.to_numeric`. O argumento `errors='coerce'` substitui quaisquer valores que não possam ser convertidos para numérico por `NaN` (Não um Número).\n",
        "- Uma nova coluna, `avg_monthly_spend`, é criada. Esta coluna calcula o gasto médio mensal do cliente dividindo o `total_charges` pelo `tenure`. Uma condição (`np.where`) é usada para evitar divisão por zero ou cálculo para clientes sem total de gastos registrados.\n",
        "\n",
        "**Resultado:** Um DataFrame `df` com colunas renomeadas, tipos de dados ajustados e a nova coluna `avg_monthly_spend`. O DataFrame agora tem 7267 linhas e 23 colunas."
      ]
    },
    {
      "cell_type": "markdown",
      "metadata": {
        "id": "b2a8d7f0"
      },
      "source": [
        "## 3. Carga dos Dados\n",
        "\n",
        "Após a transformação, os dados limpos e preparados são salvos para uso futuro.\n",
        "\n",
        "- O DataFrame `df` tratado é exportado para um arquivo CSV chamado \"TelecomX_clean.csv\" usando o método `to_csv()`.\n",
        "- `index=False` é usado para evitar que o índice do DataFrame seja escrito como uma coluna no arquivo CSV.\n",
        "- Uma mensagem de confirmação é impressa indicando que o arquivo foi salvo.\n",
        "\n",
        "**Resultado:** Um arquivo CSV (\"TelecomX_clean.csv\") contendo o DataFrame tratado, pronto para ser utilizado em etapas posteriores, como modelagem preditiva."
      ]
    },
    {
      "cell_type": "markdown",
      "metadata": {
        "id": "12f08917"
      },
      "source": [
        "## 4. Análise Exploratória (EDA)\n",
        "\n",
        "Esta etapa foca em entender os padrões e as características dos dados, especialmente em relação à variável alvo `churn`. São utilizadas estatísticas descritivas e visualizações.\n",
        "\n",
        "- A **taxa de churn** geral é calculada como a média da coluna `churn` (onde 1 representa churn e 0 não churn) e exibida em formato percentual.\n",
        "- Um **histograma da distribuição de churn** é criado usando `plotly.express` para visualizar a proporção de clientes que cancelaram versus os que não cancelaram.\n",
        "- Um **histograma da distribuição de `tenure`** (tempo de permanência do cliente em meses) é gerado para mostrar como o tempo de permanência dos clientes se distribui.\n",
        "- Um **boxplot de `monthly_charges` por grupo de churn** é criado para comparar a distribuição dos gastos mensais entre clientes que cancelaram e os que não cancelaram. Isso ajuda a identificar se há uma diferença significativa nos gastos entre os grupos.\n",
        "- A **taxa de churn por tipo de contrato** é calculada agrupando o DataFrame pela coluna `account.Contract` e calculando a média de `churn` para cada tipo de contrato. Um gráfico de barras é gerado para visualizar essas taxas.\n",
        "\n",
        "**Resultados:**\n",
        "- A taxa de churn geral é de **26,54%**.\n",
        "- As visualizações e a estatística por tipo de contrato indicam que clientes com **contratos mensais** têm uma taxa de churn muito maior do que aqueles com contratos de um ou dois anos.\n",
        "- O boxplot de `monthly_charges` sugere que clientes que cancelam tendem a ter **mensalidades mais altas**.\n",
        "- A distribuição de `tenure` mostra a frequência de clientes com diferentes tempos de permanência."
      ]
    },
    {
      "cell_type": "markdown",
      "metadata": {
        "id": "f2c991e1"
      },
      "source": [
        "## 5. Relatório Final\n",
        "\n",
        "Este é um resumo em texto dos principais achados da análise exploratória, consolidando os insights obtidos nas etapas anteriores.\n",
        "\n",
        "- O relatório começa com um resumo breve do processo de ETL.\n",
        "- Em seguida, lista os **Principais Insights** identificados durante a EDA:\n",
        "    - A taxa de churn observada (26,5%).\n",
        "    - A forte correlação entre contrato mensal e maior churn.\n",
        "    - A associação do pagamento por cheque eletrônico com cancelamentos (embora a visualização específica para método de pagamento não esteja no código da EDA mostrado, este insight provavelmente veio de uma análise similar à do tipo de contrato).\n",
        "    - A tendência de clientes com mais serviços adicionais a permanecerem mais tempo.\n",
        "    - A correlação entre mensalidades mais altas e maior churn.\n",
        "- Finalmente, são listados os **Próximos Passos** sugeridos com base na análise, como a construção de um modelo preditivo e a criação de estratégias de retenção direcionadas.\n",
        "\n",
        "**Resultado:** Um relatório conciso em formato Markdown que resume as descobertas chave e sugere ações futuras com base na análise de dados."
      ]
    }
  ]
}